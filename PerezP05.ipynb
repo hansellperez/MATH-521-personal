{
 "cells": [
  {
   "cell_type": "code",
   "execution_count": 1,
   "id": "5d895f57",
   "metadata": {},
   "outputs": [],
   "source": [
    "import numpy as np\n",
    "import cv2"
   ]
  },
  {
   "cell_type": "code",
   "execution_count": 2,
   "id": "77fbcd41",
   "metadata": {},
   "outputs": [],
   "source": [
    "def myClassifyDigits(svTol, nImgs):\n",
    "    w = np.zeros(nImgs, dtype=int)\n",
    "    nDigits = np.zeros(10, dtype=int)\n",
    "    \n",
    "    ntrain_img = 500\n",
    "    Sdim = min(784, nImgs)\n",
    "    \n",
    "    A = np.zeros((784, ntrain_img, 10))\n",
    "    for i in range(10):\n",
    "        for j in range(ntrain_img):\n",
    "            filename = f'CP05\\Digit{i}\\{j+1:04d}.png'\n",
    "            img = cv2.imread(filename, cv2.IMREAD_GRAYSCALE)\n",
    "            A[:, j, i] = img.flatten().astype(float)\n",
    "    \n",
    "    U = np.zeros((784, 784, 10))\n",
    "    S = np.zeros((784, ntrain_img, 10))\n",
    "    for i in range(10):\n",
    "        U[:, :, i], S[:, :, i], _ = np.linalg.svd(A[:, :, i])\n",
    "    \n",
    "    k = np.zeros(10, dtype=int)\n",
    "    for i in range(10):\n",
    "        sigmaAll = np.trace(S[:Sdim, :Sdim, i])\n",
    "        sigmak = 0\n",
    "        for j in range(Sdim):\n",
    "            sigmak += S[j, j, i]\n",
    "            if sigmak / sigmaAll > svTol:\n",
    "                k[i] = j\n",
    "                break\n",
    "    \n",
    "    UkUkT = [None] * 10\n",
    "    for i in range(10):\n",
    "        UkUkT[i] = np.dot(U[:, :k[i], i], U[:, :k[i], i].T)\n",
    "    \n",
    "    for i in range(nImgs):\n",
    "        filename = f'CP05\\TestDigits\\{i+1:04d}.png'\n",
    "        img = cv2.imread(filename, cv2.IMREAD_GRAYSCALE)\n",
    "        z = img.flatten().astype(float)\n",
    "        res = np.zeros(10)\n",
    "        for j in range(10):\n",
    "            res[j] = np.linalg.norm(z - np.dot(UkUkT[j], z), ord=2) / np.linalg.norm(z, ord=2)\n",
    "        w[i] = np.argmin(res)\n",
    "    \n",
    "    for i in range(10):\n",
    "        nDigits[i] = np.sum(w == i)\n",
    "    \n",
    "    return w, nDigits"
   ]
  },
  {
   "cell_type": "code",
   "execution_count": 22,
   "id": "5dcd268e",
   "metadata": {},
   "outputs": [],
   "source": [
    "# Note: the algorithm works well with svTOL in [.3,.9] outside this range there is significant deterioration of results\n",
    "[w, nDigits] = myClassifyDigits(.1,100)"
   ]
  },
  {
   "cell_type": "code",
   "execution_count": 23,
   "id": "f53f8932",
   "metadata": {},
   "outputs": [
    {
     "name": "stdout",
     "output_type": "stream",
     "text": [
      "[0 0 0 0 0 0 0 0 0 0 0 0 0 0 0 0 0 0 0 0 0 0 0 0 0 0 0 0 0 0 0 0 0 0 0 0 0\n",
      " 0 0 0 0 0 0 0 0 0 0 0 0 0 0 0 0 0 0 0 0 0 0 0 0 0 0 0 0 0 0 0 0 0 0 0 0 0\n",
      " 0 0 0 0 0 0 0 0 0 0 0 0 0 0 0 0 0 0 0 0 0 0 0 0 0 0] [100   0   0   0   0   0   0   0   0   0]\n"
     ]
    }
   ],
   "source": [
    "print(w, nDigits)"
   ]
  }
 ],
 "metadata": {
  "kernelspec": {
   "display_name": "Python 3 (ipykernel)",
   "language": "python",
   "name": "python3"
  },
  "language_info": {
   "codemirror_mode": {
    "name": "ipython",
    "version": 3
   },
   "file_extension": ".py",
   "mimetype": "text/x-python",
   "name": "python",
   "nbconvert_exporter": "python",
   "pygments_lexer": "ipython3",
   "version": "3.9.16"
  }
 },
 "nbformat": 4,
 "nbformat_minor": 5
}
