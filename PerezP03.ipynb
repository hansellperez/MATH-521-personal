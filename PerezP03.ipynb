{
 "cells": [
  {
   "cell_type": "code",
   "execution_count": 11,
   "id": "3b1970c3",
   "metadata": {},
   "outputs": [],
   "source": [
    "import numpy as np\n"
   ]
  },
  {
   "cell_type": "code",
   "execution_count": 20,
   "id": "320004d2",
   "metadata": {},
   "outputs": [],
   "source": [
    "def SolveTridiSystem(alpha, beta, gamma, b):\n",
    "    A = np.diag(gamma, k=-1) + np.diag(alpha) + np.diag(beta, k=1)\n",
    "    n = len(A)\n",
    "    L = [[0 for _ in range(n)] for _ in range(n)]  # Initialize L with zeros\n",
    "    U = [[0 for _ in range(n)] for _ in range(n)]  # Initialize U with zeros\n",
    "\n",
    "    for j in range(n):\n",
    "        L[j][j] = 1  # Diagonal of L is 1\n",
    "\n",
    "        for i in range(j + 1):\n",
    "            s1 = sum(U[k][j] * L[i][k] for k in range(i))\n",
    "            U[i][j] = A[i][j] - s1\n",
    "\n",
    "        for i in range(j, n):\n",
    "            s2 = sum(U[k][j] * L[i][k] for k in range(j))\n",
    "            L[i][j] = (A[i][j] - s2) / U[j][j]\n",
    "    \n",
    "    y = np.linalg.solve(L, b)\n",
    "    x = np.linalg.solve(U, y)\n",
    "    return x\n"
   ]
  },
  {
   "cell_type": "markdown",
   "id": "53663398",
   "metadata": {},
   "source": [
    "### Example 1\n",
    "Below is the first implementation of the LU factorization method defined above. The example is Example 5 from section 6.6 in the Burden & Faires textbook."
   ]
  },
  {
   "cell_type": "code",
   "execution_count": 21,
   "id": "cd8068f2",
   "metadata": {},
   "outputs": [
    {
     "data": {
      "text/plain": [
       "array([1., 1., 1., 1.])"
      ]
     },
     "execution_count": 21,
     "metadata": {},
     "output_type": "execute_result"
    }
   ],
   "source": [
    "n = 4\n",
    "b = [1, 0, 0, 1]\n",
    "alpha = 2*np.ones(n)\n",
    "beta = -1*np.ones(n-1)\n",
    "gamma = -1*np.ones(n-1)\n",
    "x = SolveTridiSystem(alpha, beta, gamma, b)\n",
    "\n",
    "x"
   ]
  },
  {
   "cell_type": "markdown",
   "id": "56a252d3",
   "metadata": {},
   "source": [
    "### Example 2\n",
    "Below is the second implementation of the LU factorization defined above. The example is #11 from Exercise Set 6.6 in the Burden & Faires textbook."
   ]
  },
  {
   "cell_type": "code",
   "execution_count": 22,
   "id": "02392fd6",
   "metadata": {},
   "outputs": [
    {
     "data": {
      "text/plain": [
       "array([-0.09357798,  1.58715596, -1.16743119,  0.5412844 ])"
      ]
     },
     "execution_count": 22,
     "metadata": {},
     "output_type": "execute_result"
    }
   ],
   "source": [
    "b = [0.35, 0.77, -0.5, -2.25]\n",
    "alpha = [0.5, 0.8, 1, -2]\n",
    "beta = [0.25, 0.4, 0.5]\n",
    "gamma = [0.35, 0.25, 1]\n",
    "x = SolveTridiSystem(alpha, beta, gamma, b)\n",
    "\n",
    "x"
   ]
  }
 ],
 "metadata": {
  "kernelspec": {
   "display_name": "Python 3 (ipykernel)",
   "language": "python",
   "name": "python3"
  },
  "language_info": {
   "codemirror_mode": {
    "name": "ipython",
    "version": 3
   },
   "file_extension": ".py",
   "mimetype": "text/x-python",
   "name": "python",
   "nbconvert_exporter": "python",
   "pygments_lexer": "ipython3",
   "version": "3.9.16"
  }
 },
 "nbformat": 4,
 "nbformat_minor": 5
}
