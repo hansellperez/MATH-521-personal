{
 "cells": [
  {
   "cell_type": "code",
   "execution_count": 2,
   "id": "3172155b",
   "metadata": {},
   "outputs": [],
   "source": [
    "import numpy as np"
   ]
  },
  {
   "cell_type": "code",
   "execution_count": 53,
   "id": "74e08dea",
   "metadata": {},
   "outputs": [],
   "source": [
    "def lspUpdating(R, c, a, beta):\n",
    "    num_rows, num_cols = R.shape\n",
    "    c1 = c[:num_rows]\n",
    "    c2 = c[num_rows:]\n",
    "    xold = np.dot(np.linalg.inv(R),c1)\n",
    "    rold = (np.linalg.norm(c1 - R.dot(xold)))**2 + (np.linalg.norm(c2))**2\n",
    "    \n",
    "    Rnew = np.append(R, [np.transpose(a)], axis=0)\n",
    "    c1new = np.append(c1,beta)\n",
    "    augmented = np.c_[Rnew, c1new]\n",
    "    \n",
    "    for k in range(min(num_rows, num_cols+1)):\n",
    "        x = augmented[k:, k]\n",
    "        e = np.zeros_like(x)\n",
    "        e[0] = np.linalg.norm(x)\n",
    "        v = np.sign(x[0]) * e + x\n",
    "        v = v / np.linalg.norm(v)\n",
    "        augmented[k:, k:] -= 2 * np.outer(v, np.dot(v, augmented[k:, k:]))\n",
    "        \n",
    "    Rnew = augmented[:num_rows,:num_cols]\n",
    "    c1new = augmented[-1,:-1]\n",
    "    c2new = np.append(c2, augmented[-1,-1])\n",
    "        \n",
    "    xnew = np.dot(np.linalg.inv(Rnew),c1new)\n",
    "    rnew = (np.linalg.norm(c1new - Rnew.dot(xnew)))**2 + (np.linalg.norm(c2new))**2\n",
    "    return xold, rold, xnew, rnew"
   ]
  },
  {
   "cell_type": "markdown",
   "id": "fe622a4c",
   "metadata": {},
   "source": [
    "## Example 1:\n",
    "Taken from Example 5.2 in the book, regarding QR factorization. No solution to the least squares problem is provided."
   ]
  },
  {
   "cell_type": "code",
   "execution_count": 35,
   "id": "3685de6c",
   "metadata": {},
   "outputs": [],
   "source": [
    "R = np.array([[-2, -5, -15], [0, -2.2361, -11.1803], [0, 0, 2]])\n",
    "Q = np.array([[-.5, .6708, .5, .2236],\n",
    "             [-.5, .2236, -.5, -.6708],\n",
    "             [-.5, -.2236, -.5, .6708],\n",
    "             [-.5, -.6708, .5, -.2236]])\n",
    "b = np.array([1, 3, 4, 6])\n",
    "b = b.reshape(4,1)\n",
    "c = np.transpose(Q).dot(b)\n",
    "a = np.transpose(np.array([2, 3, 7]))\n",
    "beta = 12\n",
    "\n",
    "xold, rold, xnew, rnew = lspUpdating(R,c,a,beta)\n",
    "print(xold, rold, xnew, rnew)"
   ]
  },
  {
   "cell_type": "markdown",
   "id": "a1a565b5",
   "metadata": {},
   "source": [
    "## Example 2\n",
    "Taken from Example 5.4 in the book. The solution provided was repoduced by my function, namely $\\vec{x} \\approx \\left[4.2360, 3.2260\\right]^T$ (book solution) vs $\\vec{x} \\approx \\left[4.2351, 3.2261\\right]^T$ (my solution)"
   ]
  },
  {
   "cell_type": "code",
   "execution_count": 56,
   "id": "80708dad",
   "metadata": {},
   "outputs": [
    {
     "name": "stdout",
     "output_type": "stream",
     "text": [
      "[[4.23518506]\n",
      " [3.22611232]] 2.573202521196997 [-2.35569841e-16  1.06156410e-16] 4.130041005633341\n"
     ]
    }
   ],
   "source": [
    "R = np.array([[-2.2361,   -6.7082],\n",
    "            [0,    3.1623]])\n",
    "Q = np.array([[-0.4472,   -0.6325,   -0.4149,   -0.3626,   -0.3104],\n",
    "   [-0.4472,   -0.3162,    0.0672,    0.3996,    0.7320],\n",
    "   [-0.4472,    0.0000,    0.8377,   -0.2013,   -0.2403],\n",
    "   [-0.4472,    0.3162,   -0.2174,    0.6543,   -0.4739],\n",
    "   [-0.4472,    0.6325,   -0.2726,   -0.4900,    0.2925]])\n",
    "b = np.array([7.9700, 10.2000, 14.2000, 16.0000, 21.2000])\n",
    "b = b.reshape(5,1)\n",
    "c = np.transpose(Q).dot(b)\n",
    "a = np.transpose(np.array([1, 6]))\n",
    "beta = 25.4\n",
    "\n",
    "xold, rold, xnew, rnew = lspUpdating(R,c,a,beta)\n",
    "print(xold, rold, xnew, rnew)"
   ]
  }
 ],
 "metadata": {
  "kernelspec": {
   "display_name": "Python 3 (ipykernel)",
   "language": "python",
   "name": "python3"
  },
  "language_info": {
   "codemirror_mode": {
    "name": "ipython",
    "version": 3
   },
   "file_extension": ".py",
   "mimetype": "text/x-python",
   "name": "python",
   "nbconvert_exporter": "python",
   "pygments_lexer": "ipython3",
   "version": "3.9.16"
  }
 },
 "nbformat": 4,
 "nbformat_minor": 5
}
