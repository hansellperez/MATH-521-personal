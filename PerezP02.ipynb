{
 "cells": [
  {
   "cell_type": "code",
   "execution_count": 6,
   "id": "3b142ad9",
   "metadata": {},
   "outputs": [],
   "source": [
    "import numpy as np\n",
    "import time\n",
    "from time import process_time\n",
    "from tabulate import tabulate"
   ]
  },
  {
   "cell_type": "code",
   "execution_count": 15,
   "id": "86c52234",
   "metadata": {},
   "outputs": [],
   "source": [
    "n = 10000\n",
    "\n",
    "#Generate a Random matrix and a random vector \n",
    "A = np.random.rand(n,n)\n",
    "x = np.random.rand(n)\n",
    "\n",
    "#Initialize the cloumn vector y = 0\n",
    "y = np.zeros(n)"
   ]
  },
  {
   "cell_type": "markdown",
   "id": "ee3c293f",
   "metadata": {},
   "source": [
    "Below is the implementation for 2(a) of the assignment, i.e. solving the system by simply using the direct solver y=A@x"
   ]
  },
  {
   "cell_type": "code",
   "execution_count": 16,
   "id": "ed4bc155",
   "metadata": {},
   "outputs": [
    {
     "name": "stdout",
     "output_type": "stream",
     "text": [
      "CPU Time for 2(a) is: 0.078125\n"
     ]
    }
   ],
   "source": [
    "job_start = time.process_time()\n",
    "y = A @ x\n",
    "job_end = time.process_time() \n",
    "\n",
    "CPU_time_a = job_end - job_start\n",
    "print(\"CPU Time for 2(a) is:\" , CPU_time_a)"
   ]
  },
  {
   "cell_type": "markdown",
   "id": "a85993e1",
   "metadata": {},
   "source": [
    "Below is the implementation for 2(b) of the assignment, i.e. solving the system by simply using nested loops"
   ]
  },
  {
   "cell_type": "code",
   "execution_count": 17,
   "id": "546d750c",
   "metadata": {},
   "outputs": [
    {
     "name": "stdout",
     "output_type": "stream",
     "text": [
      "CPU Time for 2(b) is: 50.640625\n"
     ]
    }
   ],
   "source": [
    "job_start = time.process_time()\n",
    "\n",
    "for i in range(n):\n",
    "    for j in range(n):\n",
    "        y[i] += A[i,j] * x[j]\n",
    "\n",
    "job_end = time.process_time()\n",
    "\n",
    "CPU_time_b = job_end - job_start\n",
    "print(\"CPU Time for 2(b) is:\" , CPU_time_b)"
   ]
  },
  {
   "cell_type": "code",
   "execution_count": 20,
   "id": "be3c9a1e",
   "metadata": {},
   "outputs": [
    {
     "name": "stdout",
     "output_type": "stream",
     "text": [
      "------  --------------------  --------------------\n",
      "Size n  Time for 2(a) in sec  Time for 2(b) in sec\n",
      "\n",
      "100     0.0                   0.0\n",
      "1000    0.0                   0.21875\n",
      "5000    0.046875              11.640625\n",
      "10000   0.078125              50.640625\n",
      "------  --------------------  --------------------\n"
     ]
    }
   ],
   "source": [
    "mydata = [\n",
    "    \n",
    "    ['Size n', 'Time for 2(a) in sec', 'Time for 2(b) in sec'],\n",
    "    [   \"\"   ,   \"\"        ,       \"\"    ],\n",
    "    [ 100    ,   0.0       ,     0.0],\n",
    "    [ 1000   ,   0.0       ,     0.21875],\n",
    "    [ 5000   ,   0.046875  ,     11.640625],\n",
    "    [ 10000  ,   0.078125  ,     50.640625]\n",
    "]\n",
    " \n",
    "print(tabulate(mydata))"
   ]
  },
  {
   "cell_type": "markdown",
   "id": "1ce9c507",
   "metadata": {},
   "source": [
    "### Results\n",
    "Overall, CPU times are faster for method 2(a). As n got larger, 2(a) method took only a fraction of a second, never exceeding one tenth. However, CPU times were significantly slower for method 2(b), reaching almost 1 minute for the largest sized run."
   ]
  }
 ],
 "metadata": {
  "kernelspec": {
   "display_name": "Python 3 (ipykernel)",
   "language": "python",
   "name": "python3"
  },
  "language_info": {
   "codemirror_mode": {
    "name": "ipython",
    "version": 3
   },
   "file_extension": ".py",
   "mimetype": "text/x-python",
   "name": "python",
   "nbconvert_exporter": "python",
   "pygments_lexer": "ipython3",
   "version": "3.9.16"
  }
 },
 "nbformat": 4,
 "nbformat_minor": 5
}
