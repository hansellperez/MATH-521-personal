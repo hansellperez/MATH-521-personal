{
 "cells": [
  {
   "cell_type": "code",
   "execution_count": 1,
   "id": "6e6b5251",
   "metadata": {},
   "outputs": [],
   "source": [
    "import numpy as np\n",
    "from numpy.linalg import svd\n",
    "import os\n",
    "from PIL import Image\n",
    "import matplotlib.pyplot as plt"
   ]
  },
  {
   "cell_type": "code",
   "execution_count": 2,
   "id": "e4e2b047",
   "metadata": {},
   "outputs": [],
   "source": [
    "def load_images_from_folder(folder):\n",
    "    images = []\n",
    "    for filename in os.listdir(folder):\n",
    "        img = Image.open(os.path.join(folder, filename))\n",
    "        if img is not None:\n",
    "            images.append(np.array(img))\n",
    "    return images"
   ]
  },
  {
   "cell_type": "code",
   "execution_count": 3,
   "id": "eaec04eb",
   "metadata": {},
   "outputs": [],
   "source": [
    "def perform_svd(images, svTol):\n",
    "    A = np.stack(images)  # Stack images into a matrix\n",
    "    U, S, Vt = np.linalg.svd(A)\n",
    "    trace_S = np.sum(S)\n",
    "    cumulative_energy = 0\n",
    "    k = 0\n",
    "    for i in range(len(S)):\n",
    "        cumulative_energy += S[i]\n",
    "        if cumulative_energy / trace_S > svTol:\n",
    "            k = i + 1\n",
    "            break\n",
    "    return U[:, :k]"
   ]
  },
  {
   "cell_type": "code",
   "execution_count": 4,
   "id": "027b5032",
   "metadata": {},
   "outputs": [],
   "source": [
    "def myClassifyDigits(svTol, nImgs):\n",
    "    digit_bases = []  # Store U matrices for each digit\n",
    "    for digit in range(10):\n",
    "        digit_folder = f\"Digit{digit}\"\n",
    "        digit_images = load_images_from_folder(digit_folder)\n",
    "        U = perform_svd(digit_images, svTol)\n",
    "        digit_bases.append(U)\n",
    "\n",
    "    test_folder = \"TestDigits\"\n",
    "    test_images = load_images_from_folder(test_folder)\n",
    "\n",
    "    w = np.zeros(nImgs, dtype=int)  # Initialize result vector\n",
    "    nDigits = np.zeros(10, dtype=int)  # Initialize count vector\n",
    "\n",
    "    for i, test_image in enumerate(test_images):\n",
    "        min_residual = float('inf')\n",
    "        classified_digit = -1\n",
    "        for digit, U in enumerate(digit_bases):\n",
    "            residual = np.linalg.norm(test_image - U @ U.T @ test_image) / np.linalg.norm(test_image)\n",
    "            if residual < min_residual:\n",
    "                min_residual = residual\n",
    "                classified_digit = digit\n",
    "        w[i] = classified_digit\n",
    "        nDigits[classified_digit] += 1\n",
    "\n",
    "    return w, nDigits"
   ]
  },
  {
   "cell_type": "code",
   "execution_count": 6,
   "id": "b594518c",
   "metadata": {},
   "outputs": [
    {
     "ename": "PermissionError",
     "evalue": "[Errno 13] Permission denied: 'Test1\\\\Digit0'",
     "output_type": "error",
     "traceback": [
      "\u001b[1;31m---------------------------------------------------------------------------\u001b[0m",
      "\u001b[1;31mPermissionError\u001b[0m                           Traceback (most recent call last)",
      "Cell \u001b[1;32mIn[6], line 1\u001b[0m\n\u001b[1;32m----> 1\u001b[0m images \u001b[38;5;241m=\u001b[39m \u001b[43mload_images_from_folder\u001b[49m\u001b[43m(\u001b[49m\u001b[38;5;124;43m'\u001b[39;49m\u001b[38;5;124;43mTest1\u001b[39;49m\u001b[38;5;124;43m'\u001b[39;49m\u001b[43m)\u001b[49m\n",
      "Cell \u001b[1;32mIn[2], line 4\u001b[0m, in \u001b[0;36mload_images_from_folder\u001b[1;34m(folder)\u001b[0m\n\u001b[0;32m      2\u001b[0m images \u001b[38;5;241m=\u001b[39m []\n\u001b[0;32m      3\u001b[0m \u001b[38;5;28;01mfor\u001b[39;00m filename \u001b[38;5;129;01min\u001b[39;00m os\u001b[38;5;241m.\u001b[39mlistdir(folder):\n\u001b[1;32m----> 4\u001b[0m     img \u001b[38;5;241m=\u001b[39m \u001b[43mImage\u001b[49m\u001b[38;5;241;43m.\u001b[39;49m\u001b[43mopen\u001b[49m\u001b[43m(\u001b[49m\u001b[43mos\u001b[49m\u001b[38;5;241;43m.\u001b[39;49m\u001b[43mpath\u001b[49m\u001b[38;5;241;43m.\u001b[39;49m\u001b[43mjoin\u001b[49m\u001b[43m(\u001b[49m\u001b[43mfolder\u001b[49m\u001b[43m,\u001b[49m\u001b[43m \u001b[49m\u001b[43mfilename\u001b[49m\u001b[43m)\u001b[49m\u001b[43m)\u001b[49m\n\u001b[0;32m      5\u001b[0m     \u001b[38;5;28;01mif\u001b[39;00m img \u001b[38;5;129;01mis\u001b[39;00m \u001b[38;5;129;01mnot\u001b[39;00m \u001b[38;5;28;01mNone\u001b[39;00m:\n\u001b[0;32m      6\u001b[0m         images\u001b[38;5;241m.\u001b[39mappend(np\u001b[38;5;241m.\u001b[39marray(img))\n",
      "File \u001b[1;32m~\\anaconda3\\lib\\site-packages\\PIL\\Image.py:3227\u001b[0m, in \u001b[0;36mopen\u001b[1;34m(fp, mode, formats)\u001b[0m\n\u001b[0;32m   3224\u001b[0m     filename \u001b[38;5;241m=\u001b[39m fp\n\u001b[0;32m   3226\u001b[0m \u001b[38;5;28;01mif\u001b[39;00m filename:\n\u001b[1;32m-> 3227\u001b[0m     fp \u001b[38;5;241m=\u001b[39m \u001b[43mbuiltins\u001b[49m\u001b[38;5;241;43m.\u001b[39;49m\u001b[43mopen\u001b[49m\u001b[43m(\u001b[49m\u001b[43mfilename\u001b[49m\u001b[43m,\u001b[49m\u001b[43m \u001b[49m\u001b[38;5;124;43m\"\u001b[39;49m\u001b[38;5;124;43mrb\u001b[39;49m\u001b[38;5;124;43m\"\u001b[39;49m\u001b[43m)\u001b[49m\n\u001b[0;32m   3228\u001b[0m     exclusive_fp \u001b[38;5;241m=\u001b[39m \u001b[38;5;28;01mTrue\u001b[39;00m\n\u001b[0;32m   3230\u001b[0m \u001b[38;5;28;01mtry\u001b[39;00m:\n",
      "\u001b[1;31mPermissionError\u001b[0m: [Errno 13] Permission denied: 'Test1\\\\Digit0'"
     ]
    }
   ],
   "source": [
    "images = load_images_from_folder('Test1')"
   ]
  }
 ],
 "metadata": {
  "kernelspec": {
   "display_name": "Python 3 (ipykernel)",
   "language": "python",
   "name": "python3"
  },
  "language_info": {
   "codemirror_mode": {
    "name": "ipython",
    "version": 3
   },
   "file_extension": ".py",
   "mimetype": "text/x-python",
   "name": "python",
   "nbconvert_exporter": "python",
   "pygments_lexer": "ipython3",
   "version": "3.9.16"
  }
 },
 "nbformat": 4,
 "nbformat_minor": 5
}
