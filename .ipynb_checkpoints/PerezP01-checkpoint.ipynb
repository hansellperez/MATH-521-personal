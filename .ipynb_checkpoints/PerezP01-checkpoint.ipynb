{
 "cells": [
  {
   "cell_type": "code",
   "execution_count": 1,
   "id": "d17011d1",
   "metadata": {},
   "outputs": [],
   "source": [
    "import numpy as np"
   ]
  },
  {
   "cell_type": "code",
   "execution_count": 9,
   "id": "2bae9030",
   "metadata": {},
   "outputs": [],
   "source": [
    "def myHouseholder1(a):\n",
    "    alpha = np.linalg.norm(a)\n",
    "    \n",
    "    if a[0] < 0:\n",
    "        alpha = -alpha\n",
    "        \n",
    "    w = np.zeros_like(a)\n",
    "    w[0] = a[0] + alpha\n",
    "    w[1:] = a[1:]\n",
    "        \n",
    "    w = w/np.linalg.norm(w)\n",
    "    return w"
   ]
  },
  {
   "cell_type": "code",
   "execution_count": 10,
   "id": "d403bf06",
   "metadata": {},
   "outputs": [],
   "source": [
    "def myHouseholder2(A,w):\n",
    "    \n",
    "    B = np.dot((np.eye(len(w)) - 2*np.outer(w,w)),A)\n",
    "    \n",
    "    return B"
   ]
  },
  {
   "cell_type": "code",
   "execution_count": 11,
   "id": "1de1aa2a",
   "metadata": {},
   "outputs": [
    {
     "name": "stdout",
     "output_type": "stream",
     "text": [
      "Example 1:\n",
      "Original Matrix, A: \n",
      " [[12 10  4]\n",
      " [10  8 -5]\n",
      " [ 4 -5  3]]\n",
      "Householder vector, w: \n",
      " [0.93333333 0.33333333 0.13333333]\n",
      "Modified matrix, B: \n",
      " [[-16.12444444 -11.15555556  -0.60444444]\n",
      " [ -0.04444444   0.44444444  -6.64444444]\n",
      " [ -0.01777778  -8.02222222   2.34222222]]\n"
     ]
    }
   ],
   "source": [
    "# Example 1:\n",
    "\n",
    "A = np.array([[12, 10, 4],\n",
    "             [10, 8, -5],\n",
    "             [4, -5, 3]])\n",
    "\n",
    "a = A[:,0]\n",
    "w = myHouseholder1(a)\n",
    "B = myHouseholder2(A, w)\n",
    "\n",
    "print(\"Example 1:\")\n",
    "print(\"Original Matrix, A: \\n\", A)\n",
    "print(\"Householder vector, w: \\n\", w)\n",
    "print(\"Modified matrix, B: \\n\", B)"
   ]
  },
  {
   "cell_type": "code",
   "execution_count": 12,
   "id": "e8d09c32",
   "metadata": {},
   "outputs": [
    {
     "name": "stdout",
     "output_type": "stream",
     "text": [
      "Example 1:\n",
      "Original Matrix, A: \n",
      " [[ 4.75  2.25 -0.25]\n",
      " [ 2.25  4.75  1.25]\n",
      " [-0.25  1.25  4.75]]\n",
      "Householder vector, w: \n",
      " [ 0.97537614  0.21919898 -0.02435544]\n",
      "Modified matrix, B: \n",
      " [[-5.26189129e+00 -4.00283830e+00 -8.31450092e-02]\n",
      " [ 2.14238349e-16  3.34478237e+00  1.28749778e+00]\n",
      " [ 2.77555756e-17  1.40613529e+00  4.74583358e+00]]\n"
     ]
    }
   ],
   "source": [
    "# Example 2:\n",
    "\n",
    "A = np.array([[4.75, 2.25, -0.25],\n",
    "             [2.25, 4.75, 1.25],\n",
    "             [-0.25, 1.25, 4.75]])\n",
    "\n",
    "a = A[:,0]\n",
    "w = myHouseholder1(a)\n",
    "B = myHouseholder2(A, w)\n",
    "\n",
    "print(\"Example 1:\")\n",
    "print(\"Original Matrix, A: \\n\", A)\n",
    "print(\"Householder vector, w: \\n\", w)\n",
    "print(\"Modified matrix, B: \\n\", B)"
   ]
  }
 ],
 "metadata": {
  "kernelspec": {
   "display_name": "Python 3 (ipykernel)",
   "language": "python",
   "name": "python3"
  },
  "language_info": {
   "codemirror_mode": {
    "name": "ipython",
    "version": 3
   },
   "file_extension": ".py",
   "mimetype": "text/x-python",
   "name": "python",
   "nbconvert_exporter": "python",
   "pygments_lexer": "ipython3",
   "version": "3.9.16"
  }
 },
 "nbformat": 4,
 "nbformat_minor": 5
}
